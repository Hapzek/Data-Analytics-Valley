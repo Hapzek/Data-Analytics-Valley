{
 "cells": [
  {
   "cell_type": "markdown",
   "metadata": {},
   "source": [
    "### Data cleaning and arranging for further analysis \n",
    "\n",
    "As we are working with public information from the goverment, I do not expect data to be very messy, this data its more likely to be prepared for analysis. \n",
    "\n",
    "What we are going to do in this section is to select the data we need in order to answer our questions, in order words, getting rid of non relevant informations for our means. Keeping data we are not going to use is a bad practice and can be translated to longer processing time of our script and slower performance of our BI Visualization Tool, in this case, Power BI. \n",
    "\n",
    "Our starting point is going to be the **tr_eaim_cifra_2013_2017.csv** file, this is the largest data set of our project, as we are only interested in the *\"Main subcategory of industries\"*, we are only going to keep the industries with three digits code from the *'CODIGO_SCIAN'* column."
   ]
  },
  {
   "cell_type": "code",
   "execution_count": 3,
   "metadata": {},
   "outputs": [
    {
     "name": "stdout",
     "output_type": "stream",
     "text": [
      "<class 'pandas.core.frame.DataFrame'>\n",
      "RangeIndex: 1740 entries, 0 to 1739\n",
      "Data columns (total 37 columns):\n",
      " #   Column        Non-Null Count  Dtype  \n",
      "---  ------        --------------  -----  \n",
      " 0   CODIGO_SCIAN  1740 non-null   object \n",
      " 1   ANIO          1740 non-null   int64  \n",
      " 2   H010B         1739 non-null   float64\n",
      " 3   H010C         1739 non-null   float64\n",
      " 4   I100B         1739 non-null   float64\n",
      " 5   I100C         1739 non-null   float64\n",
      " 6   H010D         1739 non-null   float64\n",
      " 7   I100D         1739 non-null   float64\n",
      " 8   J000A         1739 non-null   float64\n",
      " 9   O110A         1739 non-null   float64\n",
      " 10  M710B         1739 non-null   float64\n",
      " 11  M710C         1739 non-null   float64\n",
      " 12  M999A         1739 non-null   float64\n",
      " 13  M310B         1739 non-null   float64\n",
      " 14  M310C         1739 non-null   float64\n",
      " 15  K316B         1739 non-null   float64\n",
      " 16  K316C         1739 non-null   float64\n",
      " 17  K910A         1739 non-null   float64\n",
      " 18  K411A         1739 non-null   float64\n",
      " 19  K951A         1739 non-null   float64\n",
      " 20  K412A         1739 non-null   float64\n",
      " 21  K961A         1739 non-null   float64\n",
      " 22  K610A         1739 non-null   float64\n",
      " 23  K810A         1739 non-null   float64\n",
      " 24  K710A         1739 non-null   float64\n",
      " 25  K500A         1739 non-null   float64\n",
      " 26  K931A         1739 non-null   float64\n",
      " 27  K999A         1739 non-null   float64\n",
      " 28  Q100A         1739 non-null   float64\n",
      " 29  Q200A         1739 non-null   float64\n",
      " 30  Q300A         1739 non-null   float64\n",
      " 31  Q400A         1739 non-null   float64\n",
      " 32  Q900A         1739 non-null   float64\n",
      " 33  Q000B         1739 non-null   float64\n",
      " 34  Q000C         1739 non-null   float64\n",
      " 35  Q000D         1739 non-null   float64\n",
      " 36  ESTATUS       1740 non-null   object \n",
      "dtypes: float64(34), int64(1), object(2)\n",
      "memory usage: 503.1+ KB\n"
     ]
    }
   ],
   "source": [
    "import pandas as pd\n",
    "import numpy as np\n",
    "\n",
    "FactDataSet = pd.read_csv('C:\\\\Users\\\\carmg\\\\Desktop\\\\1_Industries\\\\Datasets\\\\tr_eaim_cifra_2013_2017.csv')\n",
    "FactDataSet.info()"
   ]
  },
  {
   "cell_type": "code",
   "execution_count": null,
   "metadata": {},
   "outputs": [],
   "source": []
  }
 ],
 "metadata": {
  "kernelspec": {
   "display_name": "Python 3.9.6 64-bit",
   "language": "python",
   "name": "python3"
  },
  "language_info": {
   "codemirror_mode": {
    "name": "ipython",
    "version": 3
   },
   "file_extension": ".py",
   "mimetype": "text/x-python",
   "name": "python",
   "nbconvert_exporter": "python",
   "pygments_lexer": "ipython3",
   "version": "3.9.6"
  },
  "orig_nbformat": 4,
  "vscode": {
   "interpreter": {
    "hash": "81794d4967e6c3204c66dcd87b604927b115b27c00565d3d43f05ba2f3a2cb0d"
   }
  }
 },
 "nbformat": 4,
 "nbformat_minor": 2
}
