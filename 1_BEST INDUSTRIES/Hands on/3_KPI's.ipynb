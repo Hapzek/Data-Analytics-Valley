{
 "cells": [
  {
   "attachments": {},
   "cell_type": "markdown",
   "metadata": {},
   "source": [
    "###  KPI's\n",
    "\n",
    "We could plot the raw data straightforward and we would be able to transform this data into information,  but I think its better to develop KPI's to resume and relate into a higher level the data we have.\n",
    "\n",
    "### 1. Dir vs Indir Employees Ratio = # DirectEmployees / # Indirect Employees\n",
    "\n",
    "\n",
    "### 2. Dir vs Indir Worked Hrs Ratio = # Worked Hours DirectEmployees / # Worked Hours Indirect Employees\n",
    "\n",
    "### 3. Compensation Dir vs Indir Ratio = Compensation Direct Employees / # Compensation Indirect Employees\n",
    "\n",
    "V1."
   ]
  }
 ],
 "metadata": {
  "kernelspec": {
   "display_name": "Python 3",
   "language": "python",
   "name": "python3"
  },
  "language_info": {
   "name": "python",
   "version": "3.9.6"
  },
  "orig_nbformat": 4,
  "vscode": {
   "interpreter": {
    "hash": "81794d4967e6c3204c66dcd87b604927b115b27c00565d3d43f05ba2f3a2cb0d"
   }
  }
 },
 "nbformat": 4,
 "nbformat_minor": 2
}
